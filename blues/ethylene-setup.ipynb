{
 "cells": [
  {
   "cell_type": "code",
   "execution_count": 5,
   "metadata": {
    "ExecuteTime": {
     "end_time": "2019-04-08T19:39:08.167109Z",
     "start_time": "2019-04-08T19:39:08.161117Z"
    }
   },
   "outputs": [],
   "source": [
    "import parmed\n",
    "import logging\n",
    "import os, sys, copy\n",
    "import numpy as np\n",
    "\n",
    "from simtk.openmm.app import *\n",
    "from simtk.openmm import *\n",
    "from simtk import unit"
   ]
  },
  {
   "cell_type": "code",
   "execution_count": 12,
   "metadata": {
    "ExecuteTime": {
     "end_time": "2019-04-08T21:03:40.479936Z",
     "start_time": "2019-04-08T21:03:40.473990Z"
    }
   },
   "outputs": [],
   "source": [
    "struct.save('../sgill_testsystem/ethlyene_structure.pdb')"
   ]
  },
  {
   "cell_type": "code",
   "execution_count": 6,
   "metadata": {
    "ExecuteTime": {
     "end_time": "2019-04-08T19:39:11.340797Z",
     "start_time": "2019-04-08T19:39:11.302213Z"
    }
   },
   "outputs": [],
   "source": [
    "# Create our system\n",
    "struct1 = parmed.load_file('../sgill_testsystem/sqB.pdb')\n",
    "struct2 = parmed.load_file('../sgill_testsystem/eth.prmtop', \n",
    "                           xyz='../sgill_testsystem/eth.inpcrd')\n",
    "struct = struct1 + struct2\n",
    "struct.save('../sgill_testsystem/ethlyene_structure.pdb')\n",
    "system = struct.createSystem(nonbondedMethod=NoCutoff, constraints=HBonds, \n",
    "                             removeCMMotion=True)\n",
    "\n",
    "# Remove the nonbonded forces on the charged particles\n",
    "system.removeForce(4)\n",
    "nonbonded = system.getForce(3)\n",
    "numParticles = system.getNumParticles()\n",
    "rangeparticles = range(numParticles)\n",
    "parameter_list = [nonbonded.getParticleParameters(i) for i in rangeparticles]\n",
    "system.removeForce(3)"
   ]
  },
  {
   "cell_type": "code",
   "execution_count": 7,
   "metadata": {
    "ExecuteTime": {
     "end_time": "2019-04-08T19:39:12.016338Z",
     "start_time": "2019-04-08T19:39:11.995596Z"
    }
   },
   "outputs": [
    {
     "data": {
      "text/plain": [
       "2"
      ]
     },
     "execution_count": 7,
     "metadata": {},
     "output_type": "execute_result"
    }
   ],
   "source": [
    "# Create a Custom Force for alchemical parameters\n",
    "pairwiseForce = CustomNonbondedForce(\"q/(r^2) + 4*epsilon*((sigma/r)^12-(sigma/r)^6); sigma=0.5*(sigma1+sigma2)*lambda_sterics; epsilon=sqrt(epsilon1*epsilon2)*lambda_electrostatics; q = lambda_charge*(q1*q2)\")\n",
    "pairwiseForce.addPerParticleParameter(\"sigma\")\n",
    "pairwiseForce.addPerParticleParameter(\"epsilon\")\n",
    "pairwiseForce.addPerParticleParameter(\"q\")\n",
    "pairwiseForce.addPerParticleParameter(\"lambda_on\")\n",
    "pairwiseForce.addGlobalParameter(\"lambda_sterics\", 1)\n",
    "pairwiseForce.addGlobalParameter(\"lambda_electrostatics\", 1)\n",
    "pairwiseForce.addGlobalParameter(\"lambda_charge\", 1)"
   ]
  },
  {
   "cell_type": "code",
   "execution_count": 8,
   "metadata": {
    "ExecuteTime": {
     "end_time": "2019-04-08T19:39:12.578153Z",
     "start_time": "2019-04-08T19:39:12.558914Z"
    }
   },
   "outputs": [
    {
     "data": {
      "text/plain": [
       "3"
      ]
     },
     "execution_count": 8,
     "metadata": {},
     "output_type": "execute_result"
    }
   ],
   "source": [
    "# Define nonbonded forces between two particles and ethylene\n",
    "for i, parameter in enumerate(parameter_list):\n",
    "    new_param = [parameter[1]*1.2] + [parameter[2]]+[parameter[0]]\n",
    "    pairwiseForce.addParticle()\n",
    "    pairwiseForce.setParticleParameters(i,new_param+[0])\n",
    "pairwiseForce.setParticleParameters(0, [0.324999852378,0.71128, -0.2, 10])\n",
    "pairwiseForce.setParticleParameters(1, [0.324999852378,0.71128, -0.5, 10])\n",
    "\n",
    "pairwiseForce.addInteractionGroup([0,1], rangeparticles[2:])\n",
    "num_params = pairwiseForce.getNumPerParticleParameters()\n",
    "system.addForce(pairwiseForce)"
   ]
  },
  {
   "cell_type": "code",
   "execution_count": 9,
   "metadata": {
    "ExecuteTime": {
     "end_time": "2019-04-08T19:39:13.232680Z",
     "start_time": "2019-04-08T19:39:13.218015Z"
    }
   },
   "outputs": [],
   "source": [
    "# Add a restraining force to keep ethylene in the center\n",
    "centoridForce = CustomCentroidBondForce(2, ('0.5*k*distance(g1,g2)^2'))\n",
    "centoridForce.addPerBondParameter('k')\n",
    "centoridForce.addGroup([0,1], [1,1])\n",
    "centoridForce.addGroup([2,3])\n",
    "bondGroups = [0,1]\n",
    "bondParameters=[100000]\n",
    "centoridForce.addBond(bondGroups, bondParameters)\n",
    "system.addForce(centoridForce)\n",
    "system.setParticleMass(0, 0)\n",
    "system.setParticleMass(1, 0)"
   ]
  },
  {
   "cell_type": "code",
   "execution_count": 11,
   "metadata": {
    "ExecuteTime": {
     "end_time": "2019-04-08T19:52:42.331535Z",
     "start_time": "2019-04-08T19:52:42.324713Z"
    }
   },
   "outputs": [],
   "source": [
    "# Serialize and save our system\n",
    "serialized_system = openmm.XmlSerializer.serialize(system)\n",
    "with open('../sgill_testsystem/ethylene_system.xml', 'w') as outfile:\n",
    "    outfile.write(serialized_system)"
   ]
  },
  {
   "cell_type": "code",
   "execution_count": null,
   "metadata": {},
   "outputs": [],
   "source": [
    "struc"
   ]
  }
 ],
 "metadata": {
  "kernelspec": {
   "display_name": "Python [conda env:molssi]",
   "language": "python",
   "name": "conda-env-molssi-py"
  },
  "language_info": {
   "codemirror_mode": {
    "name": "ipython",
    "version": 3
   },
   "file_extension": ".py",
   "mimetype": "text/x-python",
   "name": "python",
   "nbconvert_exporter": "python",
   "pygments_lexer": "ipython3",
   "version": "3.6.6"
  }
 },
 "nbformat": 4,
 "nbformat_minor": 2
}
