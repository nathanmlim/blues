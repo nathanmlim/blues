{
 "cells": [
  {
   "cell_type": "code",
   "execution_count": 1,
   "metadata": {
    "ExecuteTime": {
     "end_time": "2019-04-20T19:53:40.602616Z",
     "start_time": "2019-04-20T19:53:40.591996Z"
    }
   },
   "outputs": [
    {
     "name": "stdout",
     "output_type": "stream",
     "text": [
      "ImportError: Could not import openeye-toolkits. SideChainMove class will be unavailable.\n"
     ]
    },
    {
     "name": "stderr",
     "output_type": "stream",
     "text": [
      "/home/nathanlim/anaconda3/envs/blues/lib/python3.6/site-packages/openmmtools/multistate/__init__.py:75: UserWarning: Warning: openmmtools.multistate API is experimental\n",
      "  warnings.warn('Warning: openmmtools.multistate API is experimental')\n"
     ]
    }
   ],
   "source": [
    "from simtk import openmm, unit\n",
    "import parmed\n",
    "import mdtraj\n",
    "import numpy\n",
    "import math\n",
    "import logging\n",
    "\n",
    "from blues.reporters import NetCDF4Reporter, BLUESStateDataReporter\n",
    "from blues.moves import RandomLigandRotationMove, MoveEngine\n",
    "from blues.simulation import SystemFactory, SimulationFactory, BLUESSimulation\n",
    "from blues.integrators import AlchemicalExternalLangevinIntegrator\n",
    "\n",
    "from blues.reporters import ReporterConfig, init_logger\n",
    "logger = logging.getLogger(__name__)\n",
    "logger = init_logger(logger)\n",
    "\n",
    "# Set a seed/random state\n",
    "seed = numpy.random.seed(seed=3134)\n",
    "random_state = numpy.random.RandomState(seed=3134)"
   ]
  },
  {
   "cell_type": "code",
   "execution_count": 2,
   "metadata": {
    "ExecuteTime": {
     "end_time": "2019-04-20T19:53:41.799622Z",
     "start_time": "2019-04-20T19:53:41.791162Z"
    }
   },
   "outputs": [],
   "source": [
    "# Set Simulation parameters\n",
    "sim_cfg = { 'platform': 'CPU',\n",
    "                    'nprop' : 1,\n",
    "                    'propLambda' : 0.3,\n",
    "                    'dt' : 1 * unit.femtoseconds,\n",
    "                    'friction' : 1 / unit.picoseconds,\n",
    "                    'temperature' : 200 * unit.kelvin,\n",
    "                    'nIter': 10,\n",
    "                    'nstepsMD': 20,\n",
    "                    'nstepsNC': 20,\n",
    "                    'propSteps': 20,\n",
    "                    'moveStep' : 10}\n",
    "\n",
    "\n",
    "totalSteps = int(sim_cfg['nIter'] * sim_cfg['nstepsMD'])\n",
    "reportInterval = 5\n",
    "alchemical_atoms = [0,1]\n",
    "alchemical_functions = {\n",
    "    'lambda_sterics': 'min(1, (1/0.3)*abs(lambda-0.5))',\n",
    "    'lambda_electrostatics': 'step(0.2-lambda) - 1/0.2*lambda*step(0.2-lambda) + 1/0.2*(lambda-0.8)*step(lambda-0.8)'\n",
    "}"
   ]
  },
  {
   "cell_type": "code",
   "execution_count": 3,
   "metadata": {
    "ExecuteTime": {
     "end_time": "2019-04-20T19:53:42.154248Z",
     "start_time": "2019-04-20T19:53:42.146999Z"
    }
   },
   "outputs": [],
   "source": [
    "# Load a Parmed Structure for the Topology and create our openmm.Simulation\n",
    "structure = parmed.load_file('../sgill_testsystem/ethlyene_structure.pdb')\n",
    "\n",
    "# Initialize our move proposal class\n",
    "rot_move = RandomLigandRotationMove(structure, 'TMP', random_state)\n",
    "mover = MoveEngine(rot_move)\n",
    "\n",
    "\n",
    "# Load our OpenMM System and create Integrator\n",
    "with open('ethylene_system.xml', 'r') as infile:\n",
    "    xml = infile.read()\n",
    "    system = openmm.XmlSerializer.deserialize(xml)\n",
    "integrator = openmm.LangevinIntegrator(sim_cfg['temperature'], sim_cfg['friction'], sim_cfg['dt'])\n",
    "integrator.setRandomNumberSeed(3134)\n",
    "\n",
    "alch_integrator = openmm.LangevinIntegrator(sim_cfg['temperature'], sim_cfg['friction'], sim_cfg['dt'])\n",
    "alch_integrator.setRandomNumberSeed(3134)\n",
    "\n",
    "alch_system = SystemFactory.generateAlchSystem(system, alchemical_atoms)\n",
    "ncmc_integrator = AlchemicalExternalLangevinIntegrator(nsteps_neq=sim_cfg['nstepsNC'],\n",
    "            alchemical_functions=alchemical_functions,   \n",
    "            splitting=\"H V R O R V H\",\n",
    "            temperature=sim_cfg['temperature'],\n",
    "            timestep=sim_cfg['dt'])\n",
    "ncmc_integrator.setRandomNumberSeed(3134)"
   ]
  },
  {
   "cell_type": "code",
   "execution_count": 4,
   "metadata": {
    "ExecuteTime": {
     "end_time": "2019-04-20T19:53:42.154248Z",
     "start_time": "2019-04-20T19:53:42.146999Z"
    }
   },
   "outputs": [],
   "source": [
    "# Pack our systems into a single object\n",
    "systems = SystemFactory(structure, alchemical_atoms)\n",
    "systems.md = system\n",
    "systems.alch = alch_system"
   ]
  },
  {
   "cell_type": "code",
   "execution_count": 5,
   "metadata": {},
   "outputs": [
    {
     "name": "stdout",
     "output_type": "stream",
     "text": [
      "[<blues.reporters.NetCDF4Reporter object at 0x7f8eecd7c828>, <blues.reporters.BLUESStateDataReporter object at 0x7f8eecd7c748>] [<blues.reporters.BLUESStateDataReporter object at 0x7f8eecd7c908>]\n"
     ]
    }
   ],
   "source": [
    "md_reporters = { 'stream' : {'title' : 'md',\n",
    "                             'reportInterval': reportInterval,\n",
    "                             #'totalSteps' : totalSteps,\n",
    "                             'step' : True,\n",
    "                             'speed': True,\n",
    "                             'progress': True,\n",
    "                             'remainingTime': True,\n",
    "                             'currentIter' : True,\n",
    "                             },\n",
    "                  'traj_netcdf': {'reportInterval': reportInterval}\n",
    "               }\n",
    "ncmc_reporters = { 'stream' : {'title' : 'ncmc',\n",
    "                             'reportInterval': sim_cfg['nstepsNC'],\n",
    "                             #'totalSteps' : totalSteps,\n",
    "                             'step' : True,\n",
    "                             'speed': True,\n",
    "                             #'progress': True,\n",
    "                             #'remainingTime': True,\n",
    "                             'currentIter' : True,\n",
    "                             'protocolWork' : True,\n",
    "                             #'alchemicalLambda' : True,\n",
    "                             }}\n",
    "md_reporter_cfg = ReporterConfig('bluesv1-ethyleneMD', md_reporters, logger)\n",
    "md_reporters_list = md_reporter_cfg.makeReporters()\n",
    "ncmc_reporter_cfg = ReporterConfig('bluesv1-ethyleneNCMC', ncmc_reporters, logger)\n",
    "ncmc_reporters_list = ncmc_reporter_cfg.makeReporters()\n",
    "print(md_reporters_list, ncmc_reporters_list)"
   ]
  },
  {
   "cell_type": "code",
   "execution_count": 6,
   "metadata": {},
   "outputs": [],
   "source": [
    "# Pack our simulations into a single object\n",
    "simulations = SimulationFactory(systems, mover)\n",
    "\n",
    "simulations.md = SimulationFactory.generateSimFromStruct(structure, system, integrator, 'CPU')\n",
    "simulations.md = SimulationFactory.attachReporters(simulations.md, md_reporters_list)\n",
    "\n",
    "simulations.alch = SimulationFactory.generateSimFromStruct(structure, system, alch_integrator, 'CPU')\n",
    "\n",
    "simulations.ncmc = SimulationFactory.generateSimFromStruct(structure, alch_system, ncmc_integrator, 'CPU')\n",
    "simulations.ncmc = SimulationFactory.attachReporters(simulations.ncmc, ncmc_reporters_list)"
   ]
  },
  {
   "cell_type": "code",
   "execution_count": 7,
   "metadata": {
    "ExecuteTime": {
     "end_time": "2019-04-20T19:53:42.546419Z",
     "start_time": "2019-04-20T19:53:42.534985Z"
    }
   },
   "outputs": [
    {
     "name": "stdout",
     "output_type": "stream",
     "text": [
      "#\"Iter\"\t\"Step\"\t\"protocolWork\"\t\"Speed (ns/day)\"\n",
      "ncmc: 0\t20\t1.0440742091850204\t0\n",
      "#\"Iter\"\t\"Step\"\t\"Speed (ns/day)\"\n",
      "md: 0\t5\t0\n",
      "md: 0\t10\t123\n",
      "md: 0\t15\t87.8\n",
      "md: 0\t20\t107\n",
      "ncmc: 1\t20\t0.4219119985596887\t45\n",
      "md: 1\t25\t47.7\n",
      "md: 1\t30\t51.7\n",
      "md: 1\t35\t56.4\n",
      "md: 1\t40\t57.7\n",
      "ncmc: 2\t20\t-0.5186188538200988\t44.1\n",
      "md: 2\t45\t44.7\n",
      "md: 2\t50\t44.1\n",
      "md: 2\t55\t46.7\n",
      "md: 2\t60\t49.5\n",
      "ncmc: 3\t20\t-0.06514108337480284\t44.8\n",
      "md: 3\t65\t46.5\n",
      "md: 3\t70\t49.4\n",
      "md: 3\t75\t51.8\n",
      "md: 3\t80\t54.1\n",
      "ncmc: 4\t20\t0.16508255171697056\t49.2\n",
      "md: 4\t85\t50.5\n",
      "md: 4\t90\t51.2\n",
      "md: 4\t95\t52.5\n",
      "md: 4\t100\t54.6\n",
      "ncmc: 5\t20\t-0.780839780238944\t50.2\n",
      "md: 5\t105\t51.6\n",
      "md: 5\t110\t53.1\n",
      "md: 5\t115\t55\n",
      "md: 5\t120\t56.5\n",
      "ncmc: 6\t20\t-0.0025249860902839764\t53\n",
      "md: 6\t125\t52.3\n",
      "md: 6\t130\t53.9\n",
      "md: 6\t135\t55.5\n",
      "md: 6\t140\t57.1\n",
      "ncmc: 7\t20\t-1.1606892547842782\t54\n",
      "md: 7\t145\t55.1\n",
      "md: 7\t150\t56.3\n",
      "md: 7\t155\t56.4\n",
      "md: 7\t160\t57.4\n",
      "ncmc: 8\t20\t0.8770331401067734\t53.1\n",
      "md: 8\t165\t53.1\n",
      "md: 8\t170\t54.1\n",
      "md: 8\t175\t55.3\n",
      "md: 8\t180\t56.3\n",
      "ncmc: 9\t20\t1.6508201749895417\t53.2\n",
      "md: 9\t185\t52.9\n",
      "md: 9\t190\t54\n",
      "md: 9\t195\t55.1\n",
      "md: 9\t200\t56.1\n"
     ]
    }
   ],
   "source": [
    "blues = BLUESSimulation(simulations, sim_cfg)\n",
    "blues.run()"
   ]
  },
  {
   "cell_type": "code",
   "execution_count": null,
   "metadata": {},
   "outputs": [],
   "source": []
  }
 ],
 "metadata": {
  "kernelspec": {
   "display_name": "Python [conda env:blues]",
   "language": "python",
   "name": "conda-env-blues-py"
  },
  "language_info": {
   "codemirror_mode": {
    "name": "ipython",
    "version": 3
   },
   "file_extension": ".py",
   "mimetype": "text/x-python",
   "name": "python",
   "nbconvert_exporter": "python",
   "pygments_lexer": "ipython3",
   "version": "3.6.7"
  }
 },
 "nbformat": 4,
 "nbformat_minor": 2
}
